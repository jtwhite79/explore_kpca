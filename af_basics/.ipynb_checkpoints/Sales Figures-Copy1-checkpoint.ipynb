{
 "cells": [
  {
   "cell_type": "markdown",
   "metadata": {},
   "source": [
    "First we are going to get everything set up as usual"
   ]
  },
  {
   "cell_type": "code",
   "execution_count": 1,
   "metadata": {},
   "outputs": [],
   "source": [
    "import pandas as pd\n",
    "import numpy as np\n",
    "import matplotlib.pyplot as plt\n",
    "\n",
    "%matplotlib inline"
   ]
  },
  {
   "cell_type": "markdown",
   "metadata": {},
   "source": [
    "Now I am going to import the file as \"sales\" along with parsing the dates so that we have them in a date format and not an object"
   ]
  },
  {
   "cell_type": "code",
   "execution_count": 2,
   "metadata": {},
   "outputs": [],
   "source": [
    "sales = pd.read_csv(\"sample-salesv2.csv\",parse_dates=['date'])"
   ]
  },
  {
   "cell_type": "markdown",
   "metadata": {},
   "source": [
    "Now simply going to confirm that everything imported correctly and the date parsed as expected."
   ]
  },
  {
   "cell_type": "code",
   "execution_count": 3,
   "metadata": {},
   "outputs": [
    {
     "data": {
      "text/plain": [
       "account number             int64\n",
       "name                      object\n",
       "sku                       object\n",
       "category                  object\n",
       "quantity                   int64\n",
       "unit price               float64\n",
       "ext price                float64\n",
       "date              datetime64[ns]\n",
       "dtype: object"
      ]
     },
     "execution_count": 3,
     "metadata": {},
     "output_type": "execute_result"
    }
   ],
   "source": [
    "sales.dtypes"
   ]
  },
  {
   "cell_type": "markdown",
   "metadata": {},
   "source": [
    "Now going to have a look at a basic analysis of the data, good to refer back to later."
   ]
  },
  {
   "cell_type": "code",
   "execution_count": 4,
   "metadata": {},
   "outputs": [
    {
     "data": {
      "text/html": [
       "<div>\n",
       "<style scoped>\n",
       "    .dataframe tbody tr th:only-of-type {\n",
       "        vertical-align: middle;\n",
       "    }\n",
       "\n",
       "    .dataframe tbody tr th {\n",
       "        vertical-align: top;\n",
       "    }\n",
       "\n",
       "    .dataframe thead th {\n",
       "        text-align: right;\n",
       "    }\n",
       "</style>\n",
       "<table border=\"1\" class=\"dataframe\">\n",
       "  <thead>\n",
       "    <tr style=\"text-align: right;\">\n",
       "      <th></th>\n",
       "      <th>account number</th>\n",
       "      <th>name</th>\n",
       "      <th>sku</th>\n",
       "      <th>category</th>\n",
       "      <th>quantity</th>\n",
       "      <th>unit price</th>\n",
       "      <th>ext price</th>\n",
       "      <th>date</th>\n",
       "    </tr>\n",
       "  </thead>\n",
       "  <tbody>\n",
       "    <tr>\n",
       "      <th>0</th>\n",
       "      <td>296809</td>\n",
       "      <td>Carroll PLC</td>\n",
       "      <td>QN-82852</td>\n",
       "      <td>Belt</td>\n",
       "      <td>13</td>\n",
       "      <td>44.48</td>\n",
       "      <td>578.24</td>\n",
       "      <td>2014-09-27 07:13:03</td>\n",
       "    </tr>\n",
       "    <tr>\n",
       "      <th>1</th>\n",
       "      <td>98022</td>\n",
       "      <td>Heidenreich-Bosco</td>\n",
       "      <td>MJ-21460</td>\n",
       "      <td>Shoes</td>\n",
       "      <td>19</td>\n",
       "      <td>53.62</td>\n",
       "      <td>1018.78</td>\n",
       "      <td>2014-07-29 02:10:44</td>\n",
       "    </tr>\n",
       "    <tr>\n",
       "      <th>2</th>\n",
       "      <td>563905</td>\n",
       "      <td>Kerluke, Reilly and Bechtelar</td>\n",
       "      <td>AS-93055</td>\n",
       "      <td>Shirt</td>\n",
       "      <td>12</td>\n",
       "      <td>24.16</td>\n",
       "      <td>289.92</td>\n",
       "      <td>2014-03-01 10:51:24</td>\n",
       "    </tr>\n",
       "    <tr>\n",
       "      <th>3</th>\n",
       "      <td>93356</td>\n",
       "      <td>Waters-Walker</td>\n",
       "      <td>AS-93055</td>\n",
       "      <td>Shirt</td>\n",
       "      <td>5</td>\n",
       "      <td>82.68</td>\n",
       "      <td>413.40</td>\n",
       "      <td>2013-11-17 20:41:11</td>\n",
       "    </tr>\n",
       "    <tr>\n",
       "      <th>4</th>\n",
       "      <td>659366</td>\n",
       "      <td>Waelchi-Fahey</td>\n",
       "      <td>AS-93055</td>\n",
       "      <td>Shirt</td>\n",
       "      <td>18</td>\n",
       "      <td>99.64</td>\n",
       "      <td>1793.52</td>\n",
       "      <td>2014-01-03 08:14:27</td>\n",
       "    </tr>\n",
       "  </tbody>\n",
       "</table>\n",
       "</div>"
      ],
      "text/plain": [
       "   account number                           name       sku category  quantity  \\\n",
       "0          296809                    Carroll PLC  QN-82852     Belt        13   \n",
       "1           98022              Heidenreich-Bosco  MJ-21460    Shoes        19   \n",
       "2          563905  Kerluke, Reilly and Bechtelar  AS-93055    Shirt        12   \n",
       "3           93356                  Waters-Walker  AS-93055    Shirt         5   \n",
       "4          659366                  Waelchi-Fahey  AS-93055    Shirt        18   \n",
       "\n",
       "   unit price  ext price                date  \n",
       "0       44.48     578.24 2014-09-27 07:13:03  \n",
       "1       53.62    1018.78 2014-07-29 02:10:44  \n",
       "2       24.16     289.92 2014-03-01 10:51:24  \n",
       "3       82.68     413.40 2013-11-17 20:41:11  \n",
       "4       99.64    1793.52 2014-01-03 08:14:27  "
      ]
     },
     "execution_count": 4,
     "metadata": {},
     "output_type": "execute_result"
    }
   ],
   "source": [
    "sales.head()"
   ]
  },
  {
   "cell_type": "markdown",
   "metadata": {},
   "source": [
    "Now we are going to adress our first problem:\n",
    "Determine which customers purchase the most?\n",
    "\n",
    "We are going to start by creating a new array for just customers, with customer names, ext prices, and dates.\n",
    "Then we are going to create a new array where the customers are grouped by their name and then summed using the grupoby command, as in the current format therwill be multiple lines for each customer. \n",
    "Finally we create another array called sorted_customers by using the sort_values which will simply order them in descending order which will be our list of customers who have purchased the greatest value of merchandise. "
   ]
  },
  {
   "cell_type": "code",
   "execution_count": 5,
   "metadata": {},
   "outputs": [],
   "source": [
    "customers = sales[['ext price', 'name', 'date']]"
   ]
  },
  {
   "cell_type": "code",
   "execution_count": 6,
   "metadata": {},
   "outputs": [],
   "source": [
    "customers_group = customers.groupby('name').sum()"
   ]
  },
  {
   "cell_type": "code",
   "execution_count": 7,
   "metadata": {},
   "outputs": [],
   "source": [
    "sorted_customers = customers_group.sort_values('ext price',ascending=False)"
   ]
  },
  {
   "cell_type": "code",
   "execution_count": 8,
   "metadata": {},
   "outputs": [
    {
     "data": {
      "text/html": [
       "<div>\n",
       "<style scoped>\n",
       "    .dataframe tbody tr th:only-of-type {\n",
       "        vertical-align: middle;\n",
       "    }\n",
       "\n",
       "    .dataframe tbody tr th {\n",
       "        vertical-align: top;\n",
       "    }\n",
       "\n",
       "    .dataframe thead th {\n",
       "        text-align: right;\n",
       "    }\n",
       "</style>\n",
       "<table border=\"1\" class=\"dataframe\">\n",
       "  <thead>\n",
       "    <tr style=\"text-align: right;\">\n",
       "      <th></th>\n",
       "      <th>ext price</th>\n",
       "    </tr>\n",
       "    <tr>\n",
       "      <th>name</th>\n",
       "      <th></th>\n",
       "    </tr>\n",
       "  </thead>\n",
       "  <tbody>\n",
       "    <tr>\n",
       "      <th>Kihn, McClure and Denesik</th>\n",
       "      <td>38935.29</td>\n",
       "    </tr>\n",
       "    <tr>\n",
       "      <th>Waters-Walker</th>\n",
       "      <td>36778.96</td>\n",
       "    </tr>\n",
       "    <tr>\n",
       "      <th>Carroll PLC</th>\n",
       "      <td>35934.31</td>\n",
       "    </tr>\n",
       "    <tr>\n",
       "      <th>Hegmann and Sons</th>\n",
       "      <td>35213.72</td>\n",
       "    </tr>\n",
       "    <tr>\n",
       "      <th>Kunze Inc</th>\n",
       "      <td>34406.54</td>\n",
       "    </tr>\n",
       "  </tbody>\n",
       "</table>\n",
       "</div>"
      ],
      "text/plain": [
       "                           ext price\n",
       "name                                \n",
       "Kihn, McClure and Denesik   38935.29\n",
       "Waters-Walker               36778.96\n",
       "Carroll PLC                 35934.31\n",
       "Hegmann and Sons            35213.72\n",
       "Kunze Inc                   34406.54"
      ]
     },
     "execution_count": 8,
     "metadata": {},
     "output_type": "execute_result"
    }
   ],
   "source": [
    "sorted_customers.head()"
   ]
  },
  {
   "cell_type": "markdown",
   "metadata": {},
   "source": [
    "Now that that is all finished we can get to analysing the categories and those figures. We are going to do something very similar to what we did with the customers, except taking it one step further this time. \n",
    "To start we will create a new array called categories with the category and ext price. \n",
    "Then we are going to do the same thing to it that we did to the customers and group them by their category and then sum them in order to create an array that we can graph.\n",
    "Finally we are going to use the .plot command to create a bar graph of sales."
   ]
  },
  {
   "cell_type": "code",
   "execution_count": 9,
   "metadata": {},
   "outputs": [],
   "source": [
    "categories = sales[['category','ext price','sku']]"
   ]
  },
  {
   "cell_type": "code",
   "execution_count": 10,
   "metadata": {},
   "outputs": [
    {
     "data": {
      "text/html": [
       "<div>\n",
       "<style scoped>\n",
       "    .dataframe tbody tr th:only-of-type {\n",
       "        vertical-align: middle;\n",
       "    }\n",
       "\n",
       "    .dataframe tbody tr th {\n",
       "        vertical-align: top;\n",
       "    }\n",
       "\n",
       "    .dataframe thead th {\n",
       "        text-align: right;\n",
       "    }\n",
       "</style>\n",
       "<table border=\"1\" class=\"dataframe\">\n",
       "  <thead>\n",
       "    <tr style=\"text-align: right;\">\n",
       "      <th></th>\n",
       "      <th>ext price</th>\n",
       "    </tr>\n",
       "    <tr>\n",
       "      <th>category</th>\n",
       "      <th></th>\n",
       "    </tr>\n",
       "  </thead>\n",
       "  <tbody>\n",
       "    <tr>\n",
       "      <th>Belt</th>\n",
       "      <td>106514.55</td>\n",
       "    </tr>\n",
       "    <tr>\n",
       "      <th>Shirt</th>\n",
       "      <td>246775.13</td>\n",
       "    </tr>\n",
       "    <tr>\n",
       "      <th>Shoes</th>\n",
       "      <td>226554.22</td>\n",
       "    </tr>\n",
       "  </tbody>\n",
       "</table>\n",
       "</div>"
      ],
      "text/plain": [
       "          ext price\n",
       "category           \n",
       "Belt      106514.55\n",
       "Shirt     246775.13\n",
       "Shoes     226554.22"
      ]
     },
     "execution_count": 10,
     "metadata": {},
     "output_type": "execute_result"
    }
   ],
   "source": [
    "categories_group = categories.groupby('category').sum()\n",
    "categories_group"
   ]
  },
  {
   "cell_type": "code",
   "execution_count": 11,
   "metadata": {},
   "outputs": [
    {
     "data": {
      "text/plain": [
       "<matplotlib.axes._subplots.AxesSubplot at 0x17ac1bf12b0>"
      ]
     },
     "execution_count": 11,
     "metadata": {},
     "output_type": "execute_result"
    },
    {
     "data": {
      "image/png": "[encoded data removed]",
      "text/plain": [
       "<Figure size 432x288 with 1 Axes>"
      ]
     },
     "metadata": {
      "needs_background": "light"
     },
     "output_type": "display_data"
    }
   ],
   "source": [
    "categories_group.plot(kind=\"bar\")"
   ]
  },
  {
   "cell_type": "markdown",
   "metadata": {},
   "source": [
    "Now to determine which items in each categories are performning the best I am going to start with our categories array. \n",
    "\n",
    "From this I am going to create a new array called categories_skus in which I have grouped the array by category and sku, while summing the ext price which enables me to see all 10 items, their category, and total revenue each item is bringing in. \n",
    "\n",
    "Next I am going to break it down for each category, by simply assessing the data and seeing which rows are which category(since it grouped the categories) and then simply slice that array into three smaller ones which will give me the best performing items in each category. I will do this by using the .loc command and simply choosing the rows that I want in each array.\n",
    "\n",
    "Although this works, it is a little cumbersome and so it would be nice to find a more streamlined way that actually sliced them up by categories but I was not able to do that so this will have to do."
   ]
  },
  {
   "cell_type": "code",
   "execution_count": 39,
   "metadata": {},
   "outputs": [
    {
     "data": {
      "image/png": "[encoded data removed]",
      "text/plain": [
       "<Figure size 432x288 with 1 Axes>"
      ]
     },
     "metadata": {
      "needs_background": "light"
     },
     "output_type": "display_data"
    },
    {
     "data": {
      "image/png": "[encoded data removed]",
      "text/plain": [
       "<Figure size 432x288 with 1 Axes>"
      ]
     },
     "metadata": {
      "needs_background": "light"
     },
     "output_type": "display_data"
    },
    {
     "data": {
      "image/png": "[encoded data removed]",
      "text/plain": [
       "<Figure size 432x288 with 1 Axes>"
      ]
     },
     "metadata": {
      "needs_background": "light"
     },
     "output_type": "display_data"
    }
   ],
   "source": [
    "categories_groups = categories.groupby('category').groups\n",
    "for cat,idxs in categories_groups.items():\n",
    "    cate = categories.loc[idxs,:]\n",
    "    \n",
    "    ax = plt.subplot(111)\n",
    "    cate.groupby(\"sku\").sum().plot(kind=\"bar\",ax=ax)\n",
    "    ax.set_title(cat)\n",
    "    plt.show()\n",
    "    #print(cat,sku_groups)"
   ]
  },
  {
   "cell_type": "code",
   "execution_count": 25,
   "metadata": {},
   "outputs": [
    {
     "data": {
      "text/plain": [
       "{('Belt',\n",
       "  'QN-82852'): Int64Index([  0,  11,  23,  25,  35,  63,  71,  74,  75,  78,\n",
       "             ...\n",
       "             929, 930, 931, 933, 960, 979, 980, 981, 987, 991],\n",
       "            dtype='int64', length=109),\n",
       " ('Belt',\n",
       "  'WJ-02096'): Int64Index([ 18,  20,  36,  43,  83,  88, 105, 135, 145, 177, 188, 193, 221,\n",
       "             225, 233, 242, 268, 281, 294, 300, 304, 342, 372, 374, 395, 403,\n",
       "             408, 413, 421, 422, 423, 430, 456, 459, 472, 481, 495, 497, 501,\n",
       "             510, 513, 514, 515, 520, 527, 538, 544, 550, 554, 597, 603, 612,\n",
       "             616, 621, 634, 635, 646, 654, 674, 678, 688, 694, 700, 733, 738,\n",
       "             742, 756, 766, 767, 777, 781, 795, 802, 807, 827, 845, 853, 855,\n",
       "             882, 893, 899, 907, 937, 940, 970, 994, 995],\n",
       "            dtype='int64'),\n",
       " ('Shirt',\n",
       "  'AS-93055'): Int64Index([  2,   3,   4,   5,  24,  30,  31,  32,  33,  37,\n",
       "             ...\n",
       "             926, 942, 944, 948, 954, 955, 965, 973, 978, 990],\n",
       "            dtype='int64', length=107),\n",
       " ('Shirt',\n",
       "  'FK-71853'): Int64Index([ 13,  49,  52,  54,  84,  92,  93, 100, 107, 114, 127, 130, 142,\n",
       "             148, 149, 156, 166, 169, 179, 189, 198, 199, 200, 204, 206, 209,\n",
       "             216, 270, 277, 280, 296, 298, 316, 318, 320, 327, 330, 331, 354,\n",
       "             359, 368, 382, 453, 461, 470, 475, 477, 480, 486, 500, 528, 534,\n",
       "             541, 559, 570, 574, 592, 613, 658, 662, 664, 665, 666, 684, 687,\n",
       "             717, 718, 722, 723, 726, 728, 730, 753, 758, 761, 769, 780, 783,\n",
       "             793, 812, 823, 824, 828, 849, 865, 869, 884, 889, 915, 935, 950],\n",
       "            dtype='int64'),\n",
       " ('Shirt',\n",
       "  'KV-99194'): Int64Index([  9,  10,  16,  17,  28,  41,  50,  55,  65,  67,\n",
       "             ...\n",
       "             923, 925, 936, 941, 943, 945, 949, 962, 986, 992],\n",
       "            dtype='int64', length=106),\n",
       " ('Shirt',\n",
       "  'VG-32047'): Int64Index([ 19,  26,  29,  40,  66,  69,  86,  91, 106, 109, 123, 132, 157,\n",
       "             178, 183, 187, 196, 214, 254, 257, 264, 282, 290, 307, 311, 319,\n",
       "             338, 346, 352, 369, 373, 379, 383, 388, 390, 399, 411, 418, 426,\n",
       "             431, 432, 442, 444, 446, 449, 450, 463, 493, 516, 519, 522, 524,\n",
       "             546, 563, 567, 576, 579, 580, 590, 598, 599, 602, 617, 618, 623,\n",
       "             624, 632, 633, 648, 655, 703, 713, 715, 721, 739, 743, 749, 757,\n",
       "             765, 768, 773, 798, 805, 806, 811, 821, 839, 850, 851, 857, 862,\n",
       "             891, 912, 920, 947, 957, 958, 974, 982, 984],\n",
       "            dtype='int64'),\n",
       " ('Shoes',\n",
       "  'GS-86623'): Int64Index([  6,  14,  34,  44,  53,  56,  57,  60,  68,  73,  95,  97, 104,\n",
       "             125, 126, 139, 154, 158, 180, 212, 234, 236, 237, 253, 272, 286,\n",
       "             297, 303, 314, 336, 339, 377, 385, 406, 409, 410, 424, 427, 436,\n",
       "             438, 448, 454, 462, 473, 483, 502, 521, 540, 543, 553, 556, 561,\n",
       "             564, 577, 587, 588, 595, 600, 601, 614, 630, 636, 638, 640, 657,\n",
       "             660, 661, 672, 682, 686, 695, 702, 719, 748, 770, 786, 788, 800,\n",
       "             815, 838, 870, 879, 881, 885, 902, 909, 927, 934, 938, 953, 956,\n",
       "             961, 968, 971, 985, 988, 996, 997],\n",
       "            dtype='int64'),\n",
       " ('Shoes',\n",
       "  'LL-46261'): Int64Index([  7,  12,  15,  21,  27,  39,  58,  76,  81,  89,\n",
       "             ...\n",
       "             896, 897, 901, 924, 951, 952, 959, 975, 983, 998],\n",
       "            dtype='int64', length=101),\n",
       " ('Shoes',\n",
       "  'LW-86841'): Int64Index([  8,  42,  47,  59,  64,  77,  87, 102, 103, 124,\n",
       "             ...\n",
       "             928, 946, 963, 964, 969, 972, 976, 989, 993, 999],\n",
       "            dtype='int64', length=101),\n",
       " ('Shoes',\n",
       "  'MJ-21460'): Int64Index([  1,  22,  38,  45,  46,  48,  51,  99, 108, 110, 113, 115, 116,\n",
       "             119, 143, 151, 155, 160, 163, 168, 170, 171, 174, 181, 197, 202,\n",
       "             210, 220, 222, 229, 230, 232, 244, 255, 276, 287, 291, 312, 325,\n",
       "             333, 337, 341, 343, 344, 345, 349, 360, 365, 380, 393, 396, 398,\n",
       "             420, 440, 457, 471, 479, 499, 503, 509, 523, 537, 548, 551, 552,\n",
       "             565, 566, 572, 622, 627, 675, 685, 707, 720, 735, 741, 763, 794,\n",
       "             797, 804, 814, 816, 818, 820, 835, 837, 847, 852, 888, 894, 898,\n",
       "             911, 916, 917, 919, 932, 939, 966, 967, 977],\n",
       "            dtype='int64')}"
      ]
     },
     "execution_count": 25,
     "metadata": {},
     "output_type": "execute_result"
    }
   ],
   "source": [
    "categories_skus = categories.groupby(['category','sku'], as_index=False).groups\n",
    "categories_skus"
   ]
  },
  {
   "cell_type": "code",
   "execution_count": 28,
   "metadata": {},
   "outputs": [
    {
     "name": "stdout",
     "output_type": "stream",
     "text": [
      "('Belt', 'QN-82852') 57577.310000000005\n",
      "('Belt', 'WJ-02096') 48937.24\n",
      "('Shirt', 'AS-93055') 65756.89\n",
      "('Shirt', 'FK-71853') 56888.829999999994\n",
      "('Shirt', 'KV-99194') 65972.27\n",
      "('Shirt', 'VG-32047') 58157.14000000001\n",
      "('Shoes', 'GS-86623') 54528.91999999999\n",
      "('Shoes', 'LL-46261') 56669.23000000001\n",
      "('Shoes', 'LW-86841') 56574.86\n",
      "('Shoes', 'MJ-21460') 58781.20999999999\n"
     ]
    }
   ],
   "source": [
    "for id,indices in categories_skus.items():\n",
    "    cate_this_sku = categories.loc[indices,:]\n",
    "    \n",
    "    print(id,cate_this_sku.loc[:,\"ext price\"].sum())\n",
    "    "
   ]
  },
  {
   "cell_type": "code",
   "execution_count": 20,
   "metadata": {},
   "outputs": [
    {
     "data": {
      "text/html": [
       "<div>\n",
       "<style scoped>\n",
       "    .dataframe tbody tr th:only-of-type {\n",
       "        vertical-align: middle;\n",
       "    }\n",
       "\n",
       "    .dataframe tbody tr th {\n",
       "        vertical-align: top;\n",
       "    }\n",
       "\n",
       "    .dataframe thead th {\n",
       "        text-align: right;\n",
       "    }\n",
       "</style>\n",
       "<table border=\"1\" class=\"dataframe\">\n",
       "  <thead>\n",
       "    <tr style=\"text-align: right;\">\n",
       "      <th></th>\n",
       "      <th>category</th>\n",
       "      <th>sku</th>\n",
       "      <th>ext price</th>\n",
       "    </tr>\n",
       "  </thead>\n",
       "  <tbody>\n",
       "    <tr>\n",
       "      <th>0</th>\n",
       "      <td>Belt</td>\n",
       "      <td>QN-82852</td>\n",
       "      <td>57577.31</td>\n",
       "    </tr>\n",
       "    <tr>\n",
       "      <th>1</th>\n",
       "      <td>Belt</td>\n",
       "      <td>WJ-02096</td>\n",
       "      <td>48937.24</td>\n",
       "    </tr>\n",
       "  </tbody>\n",
       "</table>\n",
       "</div>"
      ],
      "text/plain": [
       "  category       sku  ext price\n",
       "0     Belt  QN-82852   57577.31\n",
       "1     Belt  WJ-02096   48937.24"
      ]
     },
     "execution_count": 20,
     "metadata": {},
     "output_type": "execute_result"
    }
   ],
   "source": [
    "#Simply slcing and displaying the data for the belts category\n",
    "belts_skus = categories_skus.loc[[0,1]]\n",
    "belts_skus"
   ]
  },
  {
   "cell_type": "code",
   "execution_count": 21,
   "metadata": {},
   "outputs": [
    {
     "data": {
      "text/html": [
       "<div>\n",
       "<style scoped>\n",
       "    .dataframe tbody tr th:only-of-type {\n",
       "        vertical-align: middle;\n",
       "    }\n",
       "\n",
       "    .dataframe tbody tr th {\n",
       "        vertical-align: top;\n",
       "    }\n",
       "\n",
       "    .dataframe thead th {\n",
       "        text-align: right;\n",
       "    }\n",
       "</style>\n",
       "<table border=\"1\" class=\"dataframe\">\n",
       "  <thead>\n",
       "    <tr style=\"text-align: right;\">\n",
       "      <th></th>\n",
       "      <th>category</th>\n",
       "      <th>sku</th>\n",
       "      <th>ext price</th>\n",
       "    </tr>\n",
       "  </thead>\n",
       "  <tbody>\n",
       "    <tr>\n",
       "      <th>2</th>\n",
       "      <td>Shirt</td>\n",
       "      <td>AS-93055</td>\n",
       "      <td>65756.89</td>\n",
       "    </tr>\n",
       "    <tr>\n",
       "      <th>3</th>\n",
       "      <td>Shirt</td>\n",
       "      <td>FK-71853</td>\n",
       "      <td>56888.83</td>\n",
       "    </tr>\n",
       "    <tr>\n",
       "      <th>4</th>\n",
       "      <td>Shirt</td>\n",
       "      <td>KV-99194</td>\n",
       "      <td>65972.27</td>\n",
       "    </tr>\n",
       "    <tr>\n",
       "      <th>5</th>\n",
       "      <td>Shirt</td>\n",
       "      <td>VG-32047</td>\n",
       "      <td>58157.14</td>\n",
       "    </tr>\n",
       "  </tbody>\n",
       "</table>\n",
       "</div>"
      ],
      "text/plain": [
       "  category       sku  ext price\n",
       "2    Shirt  AS-93055   65756.89\n",
       "3    Shirt  FK-71853   56888.83\n",
       "4    Shirt  KV-99194   65972.27\n",
       "5    Shirt  VG-32047   58157.14"
      ]
     },
     "execution_count": 21,
     "metadata": {},
     "output_type": "execute_result"
    }
   ],
   "source": [
    "#same thing but for the shirts\n",
    "shirts_skus = categories_skus.loc[2:5]\n",
    "shirts_skus"
   ]
  },
  {
   "cell_type": "code",
   "execution_count": 22,
   "metadata": {},
   "outputs": [
    {
     "data": {
      "text/html": [
       "<div>\n",
       "<style scoped>\n",
       "    .dataframe tbody tr th:only-of-type {\n",
       "        vertical-align: middle;\n",
       "    }\n",
       "\n",
       "    .dataframe tbody tr th {\n",
       "        vertical-align: top;\n",
       "    }\n",
       "\n",
       "    .dataframe thead th {\n",
       "        text-align: right;\n",
       "    }\n",
       "</style>\n",
       "<table border=\"1\" class=\"dataframe\">\n",
       "  <thead>\n",
       "    <tr style=\"text-align: right;\">\n",
       "      <th></th>\n",
       "      <th>category</th>\n",
       "      <th>sku</th>\n",
       "      <th>ext price</th>\n",
       "    </tr>\n",
       "  </thead>\n",
       "  <tbody>\n",
       "    <tr>\n",
       "      <th>6</th>\n",
       "      <td>Shoes</td>\n",
       "      <td>GS-86623</td>\n",
       "      <td>54528.92</td>\n",
       "    </tr>\n",
       "    <tr>\n",
       "      <th>7</th>\n",
       "      <td>Shoes</td>\n",
       "      <td>LL-46261</td>\n",
       "      <td>56669.23</td>\n",
       "    </tr>\n",
       "    <tr>\n",
       "      <th>8</th>\n",
       "      <td>Shoes</td>\n",
       "      <td>LW-86841</td>\n",
       "      <td>56574.86</td>\n",
       "    </tr>\n",
       "    <tr>\n",
       "      <th>9</th>\n",
       "      <td>Shoes</td>\n",
       "      <td>MJ-21460</td>\n",
       "      <td>58781.21</td>\n",
       "    </tr>\n",
       "  </tbody>\n",
       "</table>\n",
       "</div>"
      ],
      "text/plain": [
       "  category       sku  ext price\n",
       "6    Shoes  GS-86623   54528.92\n",
       "7    Shoes  LL-46261   56669.23\n",
       "8    Shoes  LW-86841   56574.86\n",
       "9    Shoes  MJ-21460   58781.21"
      ]
     },
     "execution_count": 22,
     "metadata": {},
     "output_type": "execute_result"
    }
   ],
   "source": [
    "#shoes this time\n",
    "shoes_skus = categories_skus.loc[6:]\n",
    "shoes_skus"
   ]
  },
  {
   "cell_type": "markdown",
   "metadata": {},
   "source": [
    "Now we are going to go ahead and make one more valuble chart. To plot our sales over time we need to go ahead and slice the data down and then go ahead and graph it"
   ]
  },
  {
   "cell_type": "code",
   "execution_count": 23,
   "metadata": {},
   "outputs": [
    {
     "data": {
      "text/plain": [
       "<pandas.plotting._core.FramePlotMethods object at 0x0000017AC1BB8F60>"
      ]
     },
     "execution_count": 23,
     "metadata": {},
     "output_type": "execute_result"
    }
   ],
   "source": [
    "purchase_patterns = sales[['ext price','date']]\n",
    "purchase_patterns.plot "
   ]
  },
  {
   "cell_type": "code",
   "execution_count": 24,
   "metadata": {},
   "outputs": [
    {
     "name": "stderr",
     "output_type": "stream",
     "text": [
      "C:\\ProgramData\\Anaconda3\\lib\\site-packages\\ipykernel_launcher.py:3: FutureWarning: how in .resample() is deprecated\n",
      "the new syntax is .resample(...)..apply(<func>)\n",
      "  This is separate from the ipykernel package so we can avoid doing imports until\n"
     ]
    },
    {
     "data": {
      "image/png": "[encoded data removed]",
      "text/plain": [
       "<Figure size 432x288 with 1 Axes>"
      ]
     },
     "metadata": {
      "needs_background": "light"
     },
     "output_type": "display_data"
    }
   ],
   "source": [
    "purchase_patterns = sales[['ext price','date']]\n",
    "purchase_patterns = purchase_patterns.set_index('date')\n",
    "month_plot = purchase_patterns.resample('M',how=sum).plot(title=\"Total Sales by Month\",legend=None,)\n"
   ]
  },
  {
   "cell_type": "code",
   "execution_count": null,
   "metadata": {},
   "outputs": [],
   "source": []
  }
 ],
 "metadata": {
  "kernelspec": {
   "display_name": "Python 3",
   "language": "python",
   "name": "python3"
  },
  "language_info": {
   "codemirror_mode": {
    "name": "ipython",
    "version": 3
   },
   "file_extension": ".py",
   "mimetype": "text/x-python",
   "name": "python",
   "nbconvert_exporter": "python",
   "pygments_lexer": "ipython3",
   "version": "3.7.1"
  }
 },
 "nbformat": 4,
 "nbformat_minor": 2
}
