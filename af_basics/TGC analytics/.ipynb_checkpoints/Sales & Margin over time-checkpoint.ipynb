{
 "cells": [
  {
   "cell_type": "code",
   "execution_count": 32,
   "metadata": {},
   "outputs": [],
   "source": [
    "import pandas as pd\n",
    "import numpy as np\n",
    "import matplotlib.pyplot as plt\n",
    "\n",
    "%matplotlib inline"
   ]
  },
  {
   "cell_type": "code",
   "execution_count": 107,
   "metadata": {},
   "outputs": [
    {
     "name": "stdout",
     "output_type": "stream",
     "text": [
      "0       3847.00\n",
      "1      15548.19\n",
      "2       1728.15\n",
      "3       6275.75\n",
      "4       9614.15\n",
      "5       1626.40\n",
      "6       1235.25\n",
      "7       6965.38\n",
      "8       5858.00\n",
      "9       1629.70\n",
      "10      1817.00\n",
      "11      2123.55\n",
      "12      5303.50\n",
      "13      5454.90\n",
      "14      8347.02\n",
      "15      3353.70\n",
      "16     17323.00\n",
      "17      3129.50\n",
      "18      7950.00\n",
      "19     17708.50\n",
      "20     10250.90\n",
      "21     12871.84\n",
      "22      1846.91\n",
      "23      1069.25\n",
      "24      9711.25\n",
      "25      9970.15\n",
      "26      6836.74\n",
      "27      2461.09\n",
      "28      3096.00\n",
      "29      2979.00\n",
      "         ...   \n",
      "292     2937.82\n",
      "293    19771.95\n",
      "294     1991.49\n",
      "295    11653.55\n",
      "296    13193.40\n",
      "297     3451.75\n",
      "298     3554.00\n",
      "299    12704.50\n",
      "300     7356.25\n",
      "301     2478.00\n",
      "302     2067.00\n",
      "303     1494.75\n",
      "304     6979.42\n",
      "305     2604.00\n",
      "306     2649.80\n",
      "307     1520.90\n",
      "308     2933.66\n",
      "309     3741.00\n",
      "310    15763.00\n",
      "311    17321.20\n",
      "312     2265.00\n",
      "313    14042.00\n",
      "314     3789.50\n",
      "315    11511.50\n",
      "316     1656.55\n",
      "317     3650.60\n",
      "318     2280.40\n",
      "319    13413.90\n",
      "320     5295.98\n",
      "321     5238.00\n",
      "Name: Total, Length: 322, dtype: float64\n"
     ]
    },
    {
     "data": {
      "text/plain": [
       "0      51.28\n",
       "1      58.51\n",
       "2      40.53\n",
       "3      42.66\n",
       "4      33.25\n",
       "5      57.23\n",
       "6      59.25\n",
       "7      30.22\n",
       "8      37.60\n",
       "9      30.70\n",
       "10     62.95\n",
       "11     59.87\n",
       "12     24.51\n",
       "13     36.28\n",
       "14     42.81\n",
       "15     26.98\n",
       "16     33.98\n",
       "17     43.84\n",
       "18     89.18\n",
       "19     36.60\n",
       "20     26.86\n",
       "21     32.83\n",
       "22     38.06\n",
       "23     65.00\n",
       "24     29.69\n",
       "25     19.47\n",
       "26     30.91\n",
       "27     42.73\n",
       "28     37.53\n",
       "29     46.47\n",
       "       ...  \n",
       "292    43.70\n",
       "293    24.80\n",
       "294    34.85\n",
       "295    21.38\n",
       "296    28.48\n",
       "297    57.02\n",
       "298    38.85\n",
       "299    31.69\n",
       "300    34.96\n",
       "301    49.25\n",
       "302    43.86\n",
       "303    49.39\n",
       "304    40.83\n",
       "305    51.69\n",
       "306    46.60\n",
       "307    53.41\n",
       "308    50.66\n",
       "309    43.30\n",
       "310    31.56\n",
       "311    34.57\n",
       "312    27.27\n",
       "313    22.96\n",
       "314    51.88\n",
       "315    35.59\n",
       "316    45.51\n",
       "317    56.53\n",
       "318    24.95\n",
       "319    37.67\n",
       "320    47.90\n",
       "321    34.68\n",
       "Name: Margin, Length: 322, dtype: float64"
      ]
     },
     "execution_count": 107,
     "metadata": {},
     "output_type": "execute_result"
    }
   ],
   "source": [
    "df = pd.read_csv('sales_per_day.csv',parse_dates=['Date'])\n",
    "#df[\"Total\"] = pd.to_numeric(df.Total, errors='coerce')\n",
    "def fix(x):\n",
    "    return float(x.replace('$',\"\").replace(\",\",\"\"))\n",
    "\n",
    "def fix_2(x):\n",
    "    return float(x.replace('%',''))\n",
    "\n",
    "\n",
    "df.loc[:,\"Margin\"] = df.Margin.apply(fix_2)                 \n",
    "df.loc[:,\"Total\"] = df.Total.apply(fix)\n",
    "print(df.Total)\n",
    "df.Margin"
   ]
  },
  {
   "cell_type": "code",
   "execution_count": 108,
   "metadata": {},
   "outputs": [
    {
     "data": {
      "text/plain": [
       "Date           datetime64[ns]\n",
       "Sales Count             int64\n",
       "Subtotal               object\n",
       "Discounts              object\n",
       "Total                 float64\n",
       "Cost                   object\n",
       "Profit                 object\n",
       "Margin                float64\n",
       "dtype: object"
      ]
     },
     "execution_count": 108,
     "metadata": {},
     "output_type": "execute_result"
    }
   ],
   "source": [
    "df.dtypes"
   ]
  },
  {
   "cell_type": "code",
   "execution_count": 109,
   "metadata": {},
   "outputs": [
    {
     "data": {
      "text/html": [
       "<div>\n",
       "<style scoped>\n",
       "    .dataframe tbody tr th:only-of-type {\n",
       "        vertical-align: middle;\n",
       "    }\n",
       "\n",
       "    .dataframe tbody tr th {\n",
       "        vertical-align: top;\n",
       "    }\n",
       "\n",
       "    .dataframe thead th {\n",
       "        text-align: right;\n",
       "    }\n",
       "</style>\n",
       "<table border=\"1\" class=\"dataframe\">\n",
       "  <thead>\n",
       "    <tr style=\"text-align: right;\">\n",
       "      <th></th>\n",
       "      <th>Date</th>\n",
       "      <th>Sales Count</th>\n",
       "      <th>Subtotal</th>\n",
       "      <th>Discounts</th>\n",
       "      <th>Total</th>\n",
       "      <th>Cost</th>\n",
       "      <th>Profit</th>\n",
       "      <th>Margin</th>\n",
       "    </tr>\n",
       "  </thead>\n",
       "  <tbody>\n",
       "    <tr>\n",
       "      <th>0</th>\n",
       "      <td>2018-01-03</td>\n",
       "      <td>31</td>\n",
       "      <td>$3,345.23</td>\n",
       "      <td>$19.00</td>\n",
       "      <td>3847.00</td>\n",
       "      <td>$1,629.67</td>\n",
       "      <td>$1,715.56</td>\n",
       "      <td>51.28</td>\n",
       "    </tr>\n",
       "    <tr>\n",
       "      <th>1</th>\n",
       "      <td>2018-01-04</td>\n",
       "      <td>20</td>\n",
       "      <td>$13,520.60</td>\n",
       "      <td>$0.00</td>\n",
       "      <td>15548.19</td>\n",
       "      <td>$5,481.96</td>\n",
       "      <td>$8,038.64</td>\n",
       "      <td>58.51</td>\n",
       "    </tr>\n",
       "    <tr>\n",
       "      <th>2</th>\n",
       "      <td>2018-01-05</td>\n",
       "      <td>15</td>\n",
       "      <td>$1,502.73</td>\n",
       "      <td>$36.75</td>\n",
       "      <td>1728.15</td>\n",
       "      <td>$893.68</td>\n",
       "      <td>$609.05</td>\n",
       "      <td>40.53</td>\n",
       "    </tr>\n",
       "    <tr>\n",
       "      <th>3</th>\n",
       "      <td>2018-01-06</td>\n",
       "      <td>16</td>\n",
       "      <td>$5,457.22</td>\n",
       "      <td>$18.25</td>\n",
       "      <td>6275.75</td>\n",
       "      <td>$3,129.16</td>\n",
       "      <td>$2,328.06</td>\n",
       "      <td>42.66</td>\n",
       "    </tr>\n",
       "    <tr>\n",
       "      <th>4</th>\n",
       "      <td>2018-01-08</td>\n",
       "      <td>17</td>\n",
       "      <td>$8,360.14</td>\n",
       "      <td>$58.25</td>\n",
       "      <td>9614.15</td>\n",
       "      <td>$5,580.69</td>\n",
       "      <td>$2,779.45</td>\n",
       "      <td>33.25</td>\n",
       "    </tr>\n",
       "  </tbody>\n",
       "</table>\n",
       "</div>"
      ],
      "text/plain": [
       "        Date  Sales Count    Subtotal Discounts     Total       Cost  \\\n",
       "0 2018-01-03           31   $3,345.23    $19.00   3847.00  $1,629.67   \n",
       "1 2018-01-04           20  $13,520.60     $0.00  15548.19  $5,481.96   \n",
       "2 2018-01-05           15   $1,502.73    $36.75   1728.15    $893.68   \n",
       "3 2018-01-06           16   $5,457.22    $18.25   6275.75  $3,129.16   \n",
       "4 2018-01-08           17   $8,360.14    $58.25   9614.15  $5,580.69   \n",
       "\n",
       "      Profit  Margin  \n",
       "0  $1,715.56   51.28  \n",
       "1  $8,038.64   58.51  \n",
       "2    $609.05   40.53  \n",
       "3  $2,328.06   42.66  \n",
       "4  $2,779.45   33.25  "
      ]
     },
     "execution_count": 109,
     "metadata": {},
     "output_type": "execute_result"
    }
   ],
   "source": [
    "df.head()"
   ]
  },
  {
   "cell_type": "code",
   "execution_count": 110,
   "metadata": {},
   "outputs": [],
   "source": [
    "sales = df[['Total','Date', 'Margin']]"
   ]
  },
  {
   "cell_type": "code",
   "execution_count": 111,
   "metadata": {},
   "outputs": [
    {
     "data": {
      "text/html": [
       "<div>\n",
       "<style scoped>\n",
       "    .dataframe tbody tr th:only-of-type {\n",
       "        vertical-align: middle;\n",
       "    }\n",
       "\n",
       "    .dataframe tbody tr th {\n",
       "        vertical-align: top;\n",
       "    }\n",
       "\n",
       "    .dataframe thead th {\n",
       "        text-align: right;\n",
       "    }\n",
       "</style>\n",
       "<table border=\"1\" class=\"dataframe\">\n",
       "  <thead>\n",
       "    <tr style=\"text-align: right;\">\n",
       "      <th></th>\n",
       "      <th>Total</th>\n",
       "      <th>Margin</th>\n",
       "    </tr>\n",
       "    <tr>\n",
       "      <th>Date</th>\n",
       "      <th></th>\n",
       "      <th></th>\n",
       "    </tr>\n",
       "  </thead>\n",
       "  <tbody>\n",
       "    <tr>\n",
       "      <th>2018-01-03</th>\n",
       "      <td>3847.00</td>\n",
       "      <td>51.28</td>\n",
       "    </tr>\n",
       "    <tr>\n",
       "      <th>2018-01-04</th>\n",
       "      <td>15548.19</td>\n",
       "      <td>58.51</td>\n",
       "    </tr>\n",
       "    <tr>\n",
       "      <th>2018-01-05</th>\n",
       "      <td>1728.15</td>\n",
       "      <td>40.53</td>\n",
       "    </tr>\n",
       "    <tr>\n",
       "      <th>2018-01-06</th>\n",
       "      <td>6275.75</td>\n",
       "      <td>42.66</td>\n",
       "    </tr>\n",
       "    <tr>\n",
       "      <th>2018-01-08</th>\n",
       "      <td>9614.15</td>\n",
       "      <td>33.25</td>\n",
       "    </tr>\n",
       "  </tbody>\n",
       "</table>\n",
       "</div>"
      ],
      "text/plain": [
       "               Total  Margin\n",
       "Date                        \n",
       "2018-01-03   3847.00   51.28\n",
       "2018-01-04  15548.19   58.51\n",
       "2018-01-05   1728.15   40.53\n",
       "2018-01-06   6275.75   42.66\n",
       "2018-01-08   9614.15   33.25"
      ]
     },
     "execution_count": 111,
     "metadata": {},
     "output_type": "execute_result"
    }
   ],
   "source": [
    "sales = sales.set_index('Date')\n",
    "sales.head()"
   ]
  },
  {
   "cell_type": "code",
   "execution_count": 171,
   "metadata": {},
   "outputs": [
    {
     "name": "stderr",
     "output_type": "stream",
     "text": [
      "C:\\ProgramData\\Anaconda3\\lib\\site-packages\\ipykernel_launcher.py:1: FutureWarning: how in .resample() is deprecated\n",
      "the new syntax is .resample(...)..apply(<func>)\n",
      "  \"\"\"Entry point for launching an IPython kernel.\n",
      "C:\\ProgramData\\Anaconda3\\lib\\site-packages\\ipykernel_launcher.py:4: FutureWarning: how in .resample() is deprecated\n",
      "the new syntax is .resample(...)..apply(<func>)\n",
      "  after removing the cwd from sys.path.\n",
      "C:\\ProgramData\\Anaconda3\\lib\\site-packages\\ipykernel_launcher.py:5: FutureWarning: how in .resample() is deprecated\n",
      "the new syntax is .resample(...).mean()\n",
      "  \"\"\"\n"
     ]
    },
    {
     "data": {
      "text/plain": [
       "<matplotlib.axes._subplots.AxesSubplot at 0x207a23d1898>"
      ]
     },
     "execution_count": 171,
     "metadata": {},
     "output_type": "execute_result"
    },
    {
     "data": {
      "image/png": "[encoded data removed]",
      "text/plain": [
       "<Figure size 432x288 with 2 Axes>"
      ]
     },
     "metadata": {
      "needs_background": "light"
     },
     "output_type": "display_data"
    }
   ],
   "source": [
    "sales.resample('M',how=sum)\n",
    "ax1 = plt.subplot(111)\n",
    "ax2 = plt.twinx()\n",
    "sales.resample('M',how=sum).Total.plot(label=\"Sales\",ax=ax1,color='b',legend=\"Sales\")\n",
    "sales.resample('M',how=\"mean\").Margin.plot(label=\"Margins\",ax=ax2,color='g',legend=\"Margins\")\n",
    "\n",
    "\n"
   ]
  },
  {
   "cell_type": "code",
   "execution_count": 126,
   "metadata": {},
   "outputs": [
    {
     "data": {
      "image/png": "[encoded data removed]",
      "text/plain": [
       "<Figure size 432x288 with 2 Axes>"
      ]
     },
     "metadata": {
      "needs_background": "light"
     },
     "output_type": "display_data"
    }
   ],
   "source": [
    "\n",
    "#settting our data to values\n",
    "sales_2 = df[[\"Total\"]]\n",
    "margin_2 = df[[\"Margin\"]]\n",
    "date_2 = df[['Date']]\n",
    "fig, ax1 = plt.subplots()\n",
    "\n",
    "color = 'tab:red'\n",
    "ax1.set_xlabel('Date')\n",
    "ax1.set_ylabel('sales', color=color)\n",
    "ax1.plot(date_2, sales_2, color=color)\n",
    "ax1.tick_params(axis='y', labelcolor=color)\n",
    "\n",
    "ax2 = ax1.twinx()  # instantiate a second axes that shares the same x-axis\n",
    "\n",
    "color = 'tab:blue'\n",
    "ax2.set_ylabel('margin', color=color)  # we already handled the x-label with ax1\n",
    "ax2.plot(date_2, margin_2, color=color)\n",
    "ax2.tick_params(axis='y', labelcolor=color)\n",
    "\n",
    "fig.tight_layout()  # otherwise the right y-label is slightly clipped\n",
    "plt.show()\n"
   ]
  },
  {
   "cell_type": "code",
   "execution_count": null,
   "metadata": {},
   "outputs": [],
   "source": []
  }
 ],
 "metadata": {
  "kernelspec": {
   "display_name": "Python 3",
   "language": "python",
   "name": "python3"
  },
  "language_info": {
   "codemirror_mode": {
    "name": "ipython",
    "version": 3
   },
   "file_extension": ".py",
   "mimetype": "text/x-python",
   "name": "python",
   "nbconvert_exporter": "python",
   "pygments_lexer": "ipython3",
   "version": "3.7.1"
  }
 },
 "nbformat": 4,
 "nbformat_minor": 2
}
