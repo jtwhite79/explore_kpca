{
 "cells": [
  {
   "cell_type": "markdown",
   "metadata": {},
   "source": [
    "https://www.tensorflow.org/tutorials/keras/basic_classification\n",
    "\n",
    "https://github.com/Zackory/Keras-MNIST-GAN/blob/master/mnist_gan.py\n"
   ]
  },
  {
   "cell_type": "code",
   "execution_count": null,
   "metadata": {},
   "outputs": [],
   "source": [
    "import os\n",
    "import numpy as np\n",
    "import matplotlib.pyplot as plt\n",
    "import tensorflow as tf\n",
    "from tensorflow import keras\n",
    "from keras.layers.advanced_activations import LeakyReLU"
   ]
  },
  {
   "cell_type": "code",
   "execution_count": null,
   "metadata": {},
   "outputs": [],
   "source": [
    "fashion_mnist = keras.datasets.fashion_mnist"
   ]
  },
  {
   "cell_type": "code",
   "execution_count": null,
   "metadata": {},
   "outputs": [],
   "source": [
    "(tr_im,tr_lab),(tt_im,tt_lab) = fashion_mnist.load_data()"
   ]
  },
  {
   "cell_type": "code",
   "execution_count": null,
   "metadata": {},
   "outputs": [],
   "source": [
    "class_names = ['T-shirt/top', 'Trouser', 'Pullover', 'Dress', 'Coat', \n",
    "               'Sandal', 'Shirt', 'Sneaker', 'Bag', 'Ankle boot']\n"
   ]
  },
  {
   "cell_type": "code",
   "execution_count": null,
   "metadata": {},
   "outputs": [],
   "source": [
    "tr_im.shape"
   ]
  },
  {
   "cell_type": "code",
   "execution_count": null,
   "metadata": {},
   "outputs": [],
   "source": [
    "tr_lab"
   ]
  },
  {
   "cell_type": "code",
   "execution_count": null,
   "metadata": {},
   "outputs": [],
   "source": [
    "plt.imshow(tr_im[0,:,:])"
   ]
  },
  {
   "cell_type": "code",
   "execution_count": null,
   "metadata": {},
   "outputs": [],
   "source": [
    "npar = 100 #number of standard normal deviates to feed to generator input"
   ]
  },
  {
   "cell_type": "code",
   "execution_count": null,
   "metadata": {},
   "outputs": [],
   "source": [
    "tr_im.max()"
   ]
  },
  {
   "cell_type": "code",
   "execution_count": null,
   "metadata": {},
   "outputs": [],
   "source": [
    "tr_im = tr_im / tr_im.max()\n",
    "tr_im = tr_im.reshape(tr_im.shape[0],784)"
   ]
  },
  {
   "cell_type": "code",
   "execution_count": null,
   "metadata": {},
   "outputs": [],
   "source": [
    "tt_im = tt_im / tt_im.max()\n",
    "tt_im = tt_im.reshape(tt_im.shape[0],784)"
   ]
  },
  {
   "cell_type": "code",
   "execution_count": null,
   "metadata": {},
   "outputs": [],
   "source": [
    "opt = tf.train.AdamOptimizer(learning_rate=0.0005,beta1=0.5)"
   ]
  },
  {
   "cell_type": "code",
   "execution_count": null,
   "metadata": {},
   "outputs": [],
   "source": [
    "generator = keras.Sequential()\n",
    "generator.add(keras.layers.Dense(256, input_dim=npar, activation=tf.nn.leaky_relu, kernel_initializer=keras.initializers.RandomNormal(stddev=0.02)))\n",
    "generator.add(keras.layers.Dense(512, activation=tf.nn.leaky_relu))\n",
    "generator.add(keras.layers.Dense(1024, activation=tf.nn.leaky_relu))\n",
    "generator.add(keras.layers.Dense(784, activation=tf.nn.sigmoid))\n",
    "generator.compile(loss='binary_crossentropy', optimizer=opt)\n",
    "generator.summary()"
   ]
  },
  {
   "cell_type": "code",
   "execution_count": null,
   "metadata": {},
   "outputs": [],
   "source": [
    "discriminator = keras.Sequential()\n",
    "discriminator.add(keras.layers.Dense(1024, input_dim=784, kernel_initializer=keras.initializers.RandomNormal(stddev=0.02),activation=tf.nn.leaky_relu))\n",
    "discriminator.add(keras.layers.Dropout(0.3))\n",
    "discriminator.add(keras.layers.Dense(512, activation=tf.nn.leaky_relu))\n",
    "discriminator.add(keras.layers.Dropout(0.3))\n",
    "discriminator.add(keras.layers.Dense(256, activation=tf.nn.leaky_relu))\n",
    "discriminator.add(keras.layers.Dropout(0.3))\n",
    "discriminator.add(keras.layers.Dense(1, activation='sigmoid'))\n",
    "discriminator.compile(loss='binary_crossentropy', optimizer=opt)\n",
    "discriminator.summary()"
   ]
  },
  {
   "cell_type": "code",
   "execution_count": null,
   "metadata": {},
   "outputs": [],
   "source": [
    "discriminator.trainable = False\n",
    "gi = keras.layers.Input(shape=(npar,))\n",
    "x = generator(gi)\n",
    "go = discriminator(x)\n",
    "gan = keras.Model(inputs=gi,outputs=go)\n",
    "gan.compile(loss=\"binary_crossentropy\",optimizer=opt)"
   ]
  },
  {
   "cell_type": "code",
   "execution_count": null,
   "metadata": {},
   "outputs": [],
   "source": [
    "plot_noise = np.random.randn(10,npar) \n",
    "def plot_gen():\n",
    "    fig, axes = plt.subplots(nrows=1,ncols=10,figsize = (10,10))\n",
    "    vecs = generator.predict(plot_noise)#.reshape(10,28,28)\n",
    "    isreal = discriminator.predict(vecs)\n",
    "    print(isreal.shape)\n",
    "    for ax,vec,real in zip(axes.flatten(),vecs.reshape(10,28,28),isreal.flatten()):\n",
    "        ax.imshow(vec)\n",
    "        ax.set_xticklabels([])\n",
    "        ax.set_yticklabels([])\n",
    "        ax.set_title(\"{0:1.3G}\".format(real))\n",
    "plot_gen()"
   ]
  },
  {
   "cell_type": "code",
   "execution_count": null,
   "metadata": {
    "scrolled": false
   },
   "outputs": [],
   "source": [
    "batch_size = 64\n",
    "batch_count = int(tr_im.shape[0] / batch_size)\n",
    "print(batch_count)\n",
    "plot_gen()\n",
    "plt.show()\n",
    "for e in range(1,200):\n",
    "    for _ in range(batch_count):\n",
    "        noise = np.random.randn(batch_size,npar)\n",
    "        tr_im_batch = tr_im[np.random.randint(0,tr_im.shape[0],size=batch_size)]\n",
    "        gen_im = generator.predict(noise)\n",
    "        #print(gen_im.shape,tr_im_batch.shape)\n",
    "        tr_im_batch = np.concatenate([tr_im_batch,gen_im])\n",
    "        tr_im_lab = np.zeros(tr_im_batch.shape[0])\n",
    "        tr_im_lab[:batch_size] = 1.0\n",
    "        discriminator.trainable = True\n",
    "        dloss = discriminator.train_on_batch(tr_im_batch,tr_im_lab)\n",
    "        noise = np.random.randn(batch_size,npar)\n",
    "        tr_img_lab = np.ones(batch_size)\n",
    "        discriminator.trainable = False\n",
    "        gloss = gan.train_on_batch(noise,tr_img_lab)\n",
    "    \n",
    "    if e % 5 == 0:\n",
    "        print(e,dloss,gloss)\n",
    "        plot_gen()\n",
    "        plt.show()\n",
    "        \n",
    "    "
   ]
  },
  {
   "cell_type": "code",
   "execution_count": null,
   "metadata": {},
   "outputs": [],
   "source": []
  }
 ],
 "metadata": {
  "kernelspec": {
   "display_name": "Python 3",
   "language": "python",
   "name": "python3"
  },
  "language_info": {
   "codemirror_mode": {
    "name": "ipython",
    "version": 3
   },
   "file_extension": ".py",
   "mimetype": "text/x-python",
   "name": "python",
   "nbconvert_exporter": "python",
   "pygments_lexer": "ipython3",
   "version": "3.6.7"
  }
 },
 "nbformat": 4,
 "nbformat_minor": 2
}
